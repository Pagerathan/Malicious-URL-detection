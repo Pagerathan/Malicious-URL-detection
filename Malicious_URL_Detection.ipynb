{
  "metadata": {
    "kernelspec": {
      "language": "python",
      "display_name": "Python 3",
      "name": "python3"
    },
    "language_info": {
      "pygments_lexer": "ipython3",
      "nbconvert_exporter": "python",
      "version": "3.6.4",
      "file_extension": ".py",
      "codemirror_mode": {
        "name": "ipython",
        "version": 3
      },
      "name": "python",
      "mimetype": "text/x-python"
    },
    "colab": {
      "name": "Malicious URL Detection",
      "provenance": []
    }
  },
  "nbformat_minor": 0,
  "nbformat": 4,
  "cells": [
    {
      "source": [
        "\n",
        "# IMPORTANT: RUN THIS CELL IN ORDER TO IMPORT YOUR KAGGLE DATA SOURCES\n",
        "# TO THE CORRECT LOCATION (/kaggle/input) IN YOUR NOTEBOOK,\n",
        "# THEN FEEL FREE TO DELETE THIS CELL.\n",
        "# NOTE: THIS NOTEBOOK ENVIRONMENT DIFFERS FROM KAGGLE'S PYTHON\n",
        "# ENVIRONMENT SO THERE MAY BE MISSING LIBRARIES USED BY YOUR\n",
        "# NOTEBOOK.\n",
        "\n",
        "import os\n",
        "import sys\n",
        "from tempfile import NamedTemporaryFile\n",
        "from urllib.request import urlopen\n",
        "from urllib.parse import unquote, urlparse\n",
        "from urllib.error import HTTPError\n",
        "from zipfile import ZipFile\n",
        "import tarfile\n",
        "import shutil\n",
        "\n",
        "CHUNK_SIZE = 40960\n",
        "DATA_SOURCE_MAPPING = 'openphish-malicious-urls:https%3A%2F%2Fstorage.googleapis.com%2Fkaggle-data-sets%2F1545876%2F2548771%2Fbundle%2Farchive.zip%3FX-Goog-Algorithm%3DGOOG4-RSA-SHA256%26X-Goog-Credential%3Dgcp-kaggle-com%2540kaggle-161607.iam.gserviceaccount.com%252F20240404%252Fauto%252Fstorage%252Fgoog4_request%26X-Goog-Date%3D20240404T104432Z%26X-Goog-Expires%3D259200%26X-Goog-SignedHeaders%3Dhost%26X-Goog-Signature%3De5a5743b49514e18575f5d58bfcd42e5208d4c8af0352e0692a1748b403eb1899664947d107681f6a725eded71b15e5ff6ed7f1d31ac55a67db358760c4dfbb31f34d79d31c3e4de6c3b042b58b542b870ed619d65451edf4a30a5aead5e5e1b66ba929be6b5dca0ed31fac4baa5d1085c8ac702ab770c874e10e243cf7841e1d1281513c31d9e28c6e7f91b47cfba2fee43a61f097e9bb66d29864efd6bd3c49c344055c92276f714155d801e22a7e1aff517f989af973de5e9d283992772b7429aacfe235a353aa80962161517ce865b2bb2b8521b3455c98e61c8d599822ae0d26e757a3bdc1dadb609a1cceb08c509a1dd74f5cbba7e62e986f20d731074,malicious-and-benign-urls:https%3A%2F%2Fstorage.googleapis.com%2Fkaggle-data-sets%2F1545878%2F2548774%2Fbundle%2Farchive.zip%3FX-Goog-Algorithm%3DGOOG4-RSA-SHA256%26X-Goog-Credential%3Dgcp-kaggle-com%2540kaggle-161607.iam.gserviceaccount.com%252F20240404%252Fauto%252Fstorage%252Fgoog4_request%26X-Goog-Date%3D20240404T104432Z%26X-Goog-Expires%3D259200%26X-Goog-SignedHeaders%3Dhost%26X-Goog-Signature%3D9877a3282a656fe4dfe39aaef1c2171bc1fd8f3d32075fd82836c44c7d24cf2a09b5acdf018d9cd9ca85d3e3392a62a6a11f23ab98690d66bfccbc7c2805acb2a1bbcef419467121f10aef8d6ccee89f680b63785840e4f120831736292ba158efde9aa67fdbed0864aef6e38b313dc02cc00301d360ecd75e3ea797cf8a1aea693c27cac297b2d29a9068285395330200c23e450062d3aadad705c8ac23b6726e53ab4c4766d4e26a3b447007af5a3e9a0f506279780ad2ac1d4b153135bfd659abd66c11e899930b1c20f6f8aeea9906aca608ce47ad2392ef5723dff168ed862113297400c0f298970455a9126312f5033ebcb92dd74d3df8438be7c34900'\n",
        "\n",
        "KAGGLE_INPUT_PATH='/kaggle/input'\n",
        "KAGGLE_WORKING_PATH='/kaggle/working'\n",
        "KAGGLE_SYMLINK='kaggle'\n",
        "\n",
        "!umount /kaggle/input/ 2> /dev/null\n",
        "shutil.rmtree('/kaggle/input', ignore_errors=True)\n",
        "os.makedirs(KAGGLE_INPUT_PATH, 0o777, exist_ok=True)\n",
        "os.makedirs(KAGGLE_WORKING_PATH, 0o777, exist_ok=True)\n",
        "\n",
        "try:\n",
        "  os.symlink(KAGGLE_INPUT_PATH, os.path.join(\"..\", 'input'), target_is_directory=True)\n",
        "except FileExistsError:\n",
        "  pass\n",
        "try:\n",
        "  os.symlink(KAGGLE_WORKING_PATH, os.path.join(\"..\", 'working'), target_is_directory=True)\n",
        "except FileExistsError:\n",
        "  pass\n",
        "\n",
        "for data_source_mapping in DATA_SOURCE_MAPPING.split(','):\n",
        "    directory, download_url_encoded = data_source_mapping.split(':')\n",
        "    download_url = unquote(download_url_encoded)\n",
        "    filename = urlparse(download_url).path\n",
        "    destination_path = os.path.join(KAGGLE_INPUT_PATH, directory)\n",
        "    try:\n",
        "        with urlopen(download_url) as fileres, NamedTemporaryFile() as tfile:\n",
        "            total_length = fileres.headers['content-length']\n",
        "            print(f'Downloading {directory}, {total_length} bytes compressed')\n",
        "            dl = 0\n",
        "            data = fileres.read(CHUNK_SIZE)\n",
        "            while len(data) > 0:\n",
        "                dl += len(data)\n",
        "                tfile.write(data)\n",
        "                done = int(50 * dl / int(total_length))\n",
        "                sys.stdout.write(f\"\\r[{'=' * done}{' ' * (50-done)}] {dl} bytes downloaded\")\n",
        "                sys.stdout.flush()\n",
        "                data = fileres.read(CHUNK_SIZE)\n",
        "            if filename.endswith('.zip'):\n",
        "              with ZipFile(tfile) as zfile:\n",
        "                zfile.extractall(destination_path)\n",
        "            else:\n",
        "              with tarfile.open(tfile.name) as tarfile:\n",
        "                tarfile.extractall(destination_path)\n",
        "            print(f'\\nDownloaded and uncompressed: {directory}')\n",
        "    except HTTPError as e:\n",
        "        print(f'Failed to load (likely expired) {download_url} to path {destination_path}')\n",
        "        continue\n",
        "    except OSError as e:\n",
        "        print(f'Failed to load {download_url} to path {destination_path}')\n",
        "        continue\n",
        "\n",
        "print('Data source import complete.')\n"
      ],
      "metadata": {
        "id": "Fxq9NGyjteYU"
      },
      "cell_type": "code",
      "outputs": [],
      "execution_count": null
    },
    {
      "cell_type": "code",
      "source": [
        "! pip install tldextract"
      ],
      "metadata": {
        "execution": {
          "iopub.status.busy": "2021-08-22T16:28:20.009025Z",
          "iopub.execute_input": "2021-08-22T16:28:20.009376Z",
          "iopub.status.idle": "2021-08-22T16:28:26.965735Z",
          "shell.execute_reply.started": "2021-08-22T16:28:20.009346Z",
          "shell.execute_reply": "2021-08-22T16:28:26.964626Z"
        },
        "trusted": true,
        "id": "Q-2jBIfateYV"
      },
      "execution_count": null,
      "outputs": []
    },
    {
      "cell_type": "code",
      "source": [
        "# Importing libraries\n",
        "import numpy as np\n",
        "import pandas as pd\n",
        "import os\n",
        "\n",
        "# Visualisation\n",
        "import plotly.graph_objects as go\n",
        "import plotly.express as px\n",
        "from plotly.subplots import make_subplots\n",
        "\n",
        "# Extracting URL informaation\n",
        "from urllib.parse import urlparse\n",
        "import tldextract\n",
        "\n",
        "# Preprocessing\n",
        "from IPython.display import display\n",
        "from sklearn.model_selection import train_test_split\n",
        "from sklearn.preprocessing import LabelEncoder, StandardScaler\n",
        "import category_encoders as ce\n",
        "from sklearn.metrics import confusion_matrix, classification_report\n",
        "\n",
        "# ANN\n",
        "from tensorflow.keras import Sequential, metrics\n",
        "from tensorflow.keras.layers import Dense"
      ],
      "metadata": {
        "execution": {
          "iopub.status.busy": "2021-08-22T16:28:26.967985Z",
          "iopub.execute_input": "2021-08-22T16:28:26.968383Z",
          "iopub.status.idle": "2021-08-22T16:28:26.976267Z",
          "shell.execute_reply.started": "2021-08-22T16:28:26.968341Z",
          "shell.execute_reply": "2021-08-22T16:28:26.975303Z"
        },
        "trusted": true,
        "id": "RAzusTRsteYV"
      },
      "execution_count": null,
      "outputs": []
    },
    {
      "cell_type": "code",
      "source": [
        "# Data files\n",
        "for dirname, _, filenames in os.walk('/kaggle/input'):\n",
        "    for filename in filenames:\n",
        "        print(os.path.join(dirname, filename))"
      ],
      "metadata": {
        "execution": {
          "iopub.status.busy": "2021-08-22T16:28:26.97806Z",
          "iopub.execute_input": "2021-08-22T16:28:26.978357Z",
          "iopub.status.idle": "2021-08-22T16:28:26.999449Z",
          "shell.execute_reply.started": "2021-08-22T16:28:26.978319Z",
          "shell.execute_reply": "2021-08-22T16:28:26.998174Z"
        },
        "trusted": true,
        "id": "6_6Gi16pteYX"
      },
      "execution_count": null,
      "outputs": []
    },
    {
      "cell_type": "code",
      "source": [
        "# Loading data\n",
        "dataset = pd.read_csv('../input/malicious-and-benign-urls/Malicious And Benign URLs.csv')"
      ],
      "metadata": {
        "execution": {
          "iopub.status.busy": "2021-08-22T16:28:27.00105Z",
          "iopub.execute_input": "2021-08-22T16:28:27.001485Z",
          "iopub.status.idle": "2021-08-22T16:28:27.629208Z",
          "shell.execute_reply.started": "2021-08-22T16:28:27.001449Z",
          "shell.execute_reply": "2021-08-22T16:28:27.628277Z"
        },
        "trusted": true,
        "id": "Js0SloEMteYX"
      },
      "execution_count": null,
      "outputs": []
    },
    {
      "cell_type": "code",
      "source": [
        "# Loading OpenPhish Testing Data\n",
        "# This data is collected from https://openphish.com/\n",
        "# which is different from training and testing data from kaggle repository.\n",
        "# The dataset contains malicious sites only.\n",
        "openphish_sites = pd.read_csv('../input/openphish-malicious-urls/openphish.csv', names=['url'])"
      ],
      "metadata": {
        "execution": {
          "iopub.status.busy": "2021-08-22T16:28:27.630465Z",
          "iopub.execute_input": "2021-08-22T16:28:27.630739Z",
          "iopub.status.idle": "2021-08-22T16:28:27.647016Z",
          "shell.execute_reply.started": "2021-08-22T16:28:27.630712Z",
          "shell.execute_reply": "2021-08-22T16:28:27.64612Z"
        },
        "trusted": true,
        "id": "J2_PjJkFteYX"
      },
      "execution_count": null,
      "outputs": []
    },
    {
      "cell_type": "code",
      "source": [
        "dataset.head()"
      ],
      "metadata": {
        "execution": {
          "iopub.status.busy": "2021-08-22T16:28:27.648248Z",
          "iopub.execute_input": "2021-08-22T16:28:27.648545Z",
          "iopub.status.idle": "2021-08-22T16:28:27.658273Z",
          "shell.execute_reply.started": "2021-08-22T16:28:27.648517Z",
          "shell.execute_reply": "2021-08-22T16:28:27.657593Z"
        },
        "trusted": true,
        "id": "mWEc5G6dteYY"
      },
      "execution_count": null,
      "outputs": []
    },
    {
      "cell_type": "markdown",
      "source": [
        "# Data Analysis"
      ],
      "metadata": {
        "id": "I7t7DDchteYY"
      }
    },
    {
      "cell_type": "code",
      "source": [
        "fig = go.Figure([go.Pie(labels=['Benign', 'Malicious'], values=dataset.label.value_counts())])\n",
        "fig.update_layout(title='Percentage of Class (Benign and Malicious)')\n",
        "fig.show()"
      ],
      "metadata": {
        "execution": {
          "iopub.status.busy": "2021-08-22T16:28:27.659158Z",
          "iopub.execute_input": "2021-08-22T16:28:27.65949Z",
          "iopub.status.idle": "2021-08-22T16:28:27.779584Z",
          "shell.execute_reply.started": "2021-08-22T16:28:27.659457Z",
          "shell.execute_reply": "2021-08-22T16:28:27.778653Z"
        },
        "trusted": true,
        "id": "pgVkmaF0teYZ"
      },
      "execution_count": null,
      "outputs": []
    },
    {
      "cell_type": "code",
      "source": [
        "# Dataset information\n",
        "dataset.info()"
      ],
      "metadata": {
        "execution": {
          "iopub.status.busy": "2021-08-22T16:28:27.781742Z",
          "iopub.execute_input": "2021-08-22T16:28:27.782068Z",
          "iopub.status.idle": "2021-08-22T16:28:27.883668Z",
          "shell.execute_reply.started": "2021-08-22T16:28:27.782037Z",
          "shell.execute_reply": "2021-08-22T16:28:27.882661Z"
        },
        "trusted": true,
        "id": "zx0Bwc4KteYZ"
      },
      "execution_count": null,
      "outputs": []
    },
    {
      "cell_type": "code",
      "source": [
        "# Checking NULL values\n",
        "dataset.isnull().sum()"
      ],
      "metadata": {
        "execution": {
          "iopub.status.busy": "2021-08-22T16:28:27.88538Z",
          "iopub.execute_input": "2021-08-22T16:28:27.885712Z",
          "iopub.status.idle": "2021-08-22T16:28:27.982813Z",
          "shell.execute_reply.started": "2021-08-22T16:28:27.885681Z",
          "shell.execute_reply": "2021-08-22T16:28:27.981842Z"
        },
        "trusted": true,
        "id": "peuBN0FKteYa"
      },
      "execution_count": null,
      "outputs": []
    },
    {
      "cell_type": "markdown",
      "source": [
        "# Preprocessing\n",
        "#### Features to be extracted\n",
        "<ul>\n",
        "    <li>SubDomain</li>\n",
        "    <li>Domain</li>\n",
        "    <li>Suffix</li>\n",
        "    <li>Scheme length</li>\n",
        "    <li>Path length</li>\n",
        "    <li>Parameter length</li>\n",
        "    <li>Query length</li>\n",
        "    <li>Fragment length</li>\n",
        "    <li>Count of '-'</li>\n",
        "    <li>Count of '&'</li>\n",
        "    <li>Count of '?'</li>\n",
        "    <li>Count of '%'</li>\n",
        "    <li>Count of '.'</li>\n",
        "    <li>Count of digits</li>\n",
        "    <li>Count of alphabets</li>\n",
        "</ul>"
      ],
      "metadata": {
        "id": "mAv62VmdteYa"
      }
    },
    {
      "cell_type": "code",
      "source": [
        "# Sample Website URL information\n",
        "site =\"https://www.google.co.in/?gws_rd=ssl\"\n",
        "print(tldextract.extract(site))\n",
        "print(urlparse(site))"
      ],
      "metadata": {
        "execution": {
          "iopub.status.busy": "2021-08-22T16:28:27.984209Z",
          "iopub.execute_input": "2021-08-22T16:28:27.984619Z",
          "iopub.status.idle": "2021-08-22T16:28:27.990679Z",
          "shell.execute_reply.started": "2021-08-22T16:28:27.984588Z",
          "shell.execute_reply": "2021-08-22T16:28:27.989805Z"
        },
        "trusted": true,
        "id": "WwKV5cjxteYa"
      },
      "execution_count": null,
      "outputs": []
    },
    {
      "cell_type": "markdown",
      "source": [
        "## Functions"
      ],
      "metadata": {
        "id": "b9LyXoH_teYb"
      }
    },
    {
      "cell_type": "code",
      "source": [
        "# Feature Extraction Functions\n",
        "def extract_domains(row):\n",
        "#     domain_info contains ['subdomain', 'domain', 'suffix']\n",
        "#     len_info contains ['scheme_len', 'url_len', 'path_len', 'param_len', 'query_len', 'frag_len']\n",
        "    domain_info = list('NA' if extracted == '' else extracted for extracted in tldextract.extract(row['url']))\n",
        "    len_info = list(map(len, urlparse(row['url'])[:]))\n",
        "    symbols = ['-', '@', '?', '%', '.']\n",
        "    count_info = []\n",
        "    for sym in symbols:\n",
        "        count_info.append(row['url'].count(sym))\n",
        "    count_info.append(sum(i.isdigit() for i in row['url']))\n",
        "    count_info.append(sum(i.isalpha() for i in row['url']))\n",
        "    return domain_info + len_info + count_info\n",
        "\n",
        "def extract_url(data):\n",
        "#     result_type='expand' causes return type to be pd.Dataframe instead of pd.Series\n",
        "    url_component = data.apply(extract_domains, axis='columns', result_type='expand')\n",
        "#     Changing column names\n",
        "    extracted_columns = ['subdomain', 'domain', 'suffix',\n",
        "                         'scheme_len', 'url_len', 'path_len', 'param_len', 'query_len', 'frag_len',\n",
        "                         'count-', 'count@', 'count?', 'count%', 'count.', 'count_digit', 'count_alpha']\n",
        "    url_component.columns = extracted_columns\n",
        "#     display(url_component.head())\n",
        "#     better than concat, because on multiple execution of new_extract_url(),\n",
        "#     multiple cols of same type won't we added\n",
        "    for col in extracted_columns:\n",
        "        data[col] = url_component[col]\n",
        "    return data"
      ],
      "metadata": {
        "execution": {
          "iopub.status.busy": "2021-08-22T16:28:27.992098Z",
          "iopub.execute_input": "2021-08-22T16:28:27.992468Z",
          "iopub.status.idle": "2021-08-22T16:28:28.004083Z",
          "shell.execute_reply.started": "2021-08-22T16:28:27.992432Z",
          "shell.execute_reply": "2021-08-22T16:28:28.003042Z"
        },
        "trusted": true,
        "id": "xl9ZN6P4teYb"
      },
      "execution_count": null,
      "outputs": []
    },
    {
      "cell_type": "code",
      "source": [
        "# Graph Plotting Functions\n",
        "def get_frequent_group(data, n_group):\n",
        "    # get the most frequent\n",
        "    data = data.value_counts().reset_index(name='values')\n",
        "\n",
        "    # scale log base 10\n",
        "    data['values'] = np.log10(data['values'])\n",
        "\n",
        "    # calculate total values\n",
        "    # x_column (subdomain / domain / domain_suffix)\n",
        "    x_column = data.columns[1]\n",
        "    data['total_values'] = data[x_column].map(data.groupby(x_column)['values'].sum().to_dict())\n",
        "\n",
        "    # get n_group data order by highest values\n",
        "    data_group = data.sort_values('total_values', ascending=False).iloc[:, 1].unique()[:n_group]\n",
        "    data = data[data.iloc[:, 1].isin(data_group)]\n",
        "    data = data.sort_values('total_values', ascending=False)\n",
        "    return data\n",
        "\n",
        "def plot(data, n_group, title):\n",
        "    data = get_frequent_group(data, n_group)\n",
        "    fig = px.bar(data, x=data.columns[1], y='values', color='label')\n",
        "    fig.update_layout(title=title)\n",
        "    fig.show()"
      ],
      "metadata": {
        "execution": {
          "iopub.status.busy": "2021-08-22T16:28:28.00585Z",
          "iopub.execute_input": "2021-08-22T16:28:28.006285Z",
          "iopub.status.idle": "2021-08-22T16:28:28.019294Z",
          "shell.execute_reply.started": "2021-08-22T16:28:28.00624Z",
          "shell.execute_reply": "2021-08-22T16:28:28.018395Z"
        },
        "trusted": true,
        "id": "aRZdxjK0teYb"
      },
      "execution_count": null,
      "outputs": []
    },
    {
      "cell_type": "code",
      "source": [
        "%%time\n",
        "# Extracting information about URLs\n",
        "data = extract_url(dataset)"
      ],
      "metadata": {
        "execution": {
          "iopub.status.busy": "2021-08-22T16:28:28.020762Z",
          "iopub.execute_input": "2021-08-22T16:28:28.021126Z",
          "iopub.status.idle": "2021-08-22T16:29:54.758337Z",
          "shell.execute_reply.started": "2021-08-22T16:28:28.021096Z",
          "shell.execute_reply": "2021-08-22T16:29:54.757328Z"
        },
        "trusted": true,
        "id": "7snxFu_RteYb"
      },
      "execution_count": null,
      "outputs": []
    },
    {
      "cell_type": "code",
      "source": [
        "# Extracted Data\n",
        "data.head()"
      ],
      "metadata": {
        "execution": {
          "iopub.status.busy": "2021-08-22T16:29:54.759677Z",
          "iopub.execute_input": "2021-08-22T16:29:54.759954Z",
          "iopub.status.idle": "2021-08-22T16:29:54.777666Z",
          "shell.execute_reply.started": "2021-08-22T16:29:54.759917Z",
          "shell.execute_reply": "2021-08-22T16:29:54.776686Z"
        },
        "trusted": true,
        "id": "kIraPzkdteYb"
      },
      "execution_count": null,
      "outputs": []
    },
    {
      "cell_type": "markdown",
      "source": [
        "## Data Visualisation"
      ],
      "metadata": {
        "id": "wZND4MuwteYb"
      }
    },
    {
      "cell_type": "code",
      "source": [
        "# Number of unique Domains, Sub-Domains, Domain-suffix\n",
        "fig = go.Figure(\n",
        "    data=[\n",
        "        go.Bar(\n",
        "        x=['Domain', 'SubDomain', 'Suffix'],\n",
        "        y=[data['domain'].nunique(), data['subdomain'].nunique(), data['suffix'].nunique()])\n",
        "    ],\n",
        "    layout=go.Layout(\n",
        "        title=\"Number of unique Domains, Sub-Domains, Domain-suffix\")\n",
        "    )\n",
        "fig.show()"
      ],
      "metadata": {
        "execution": {
          "iopub.status.busy": "2021-08-22T16:29:54.778896Z",
          "iopub.execute_input": "2021-08-22T16:29:54.779188Z",
          "iopub.status.idle": "2021-08-22T16:29:55.210982Z",
          "shell.execute_reply.started": "2021-08-22T16:29:54.77916Z",
          "shell.execute_reply": "2021-08-22T16:29:55.210089Z"
        },
        "trusted": true,
        "id": "9HTbZuQbteYb"
      },
      "execution_count": null,
      "outputs": []
    },
    {
      "cell_type": "code",
      "source": [
        "plot(\n",
        "    data=data.groupby('label')['domain'],\n",
        "    n_group=20,\n",
        "    title='Top 20 Domains Grouped By Labels (Logarithmic Scale)'\n",
        ")"
      ],
      "metadata": {
        "execution": {
          "iopub.status.busy": "2021-08-22T16:29:55.213158Z",
          "iopub.execute_input": "2021-08-22T16:29:55.213501Z",
          "iopub.status.idle": "2021-08-22T16:29:57.410437Z",
          "shell.execute_reply.started": "2021-08-22T16:29:55.213471Z",
          "shell.execute_reply": "2021-08-22T16:29:57.409732Z"
        },
        "trusted": true,
        "id": "BgbsIC7RteYb"
      },
      "execution_count": null,
      "outputs": []
    },
    {
      "cell_type": "code",
      "source": [
        "plot(\n",
        "    data=data.groupby('label')['subdomain'],\n",
        "    n_group=20,\n",
        "    title='Top 20 Sub Domains Grouped By Labels (Logarithmic Scale)'\n",
        ")"
      ],
      "metadata": {
        "execution": {
          "iopub.status.busy": "2021-08-22T16:29:57.411344Z",
          "iopub.execute_input": "2021-08-22T16:29:57.411729Z",
          "iopub.status.idle": "2021-08-22T16:29:57.814897Z",
          "shell.execute_reply.started": "2021-08-22T16:29:57.4117Z",
          "shell.execute_reply": "2021-08-22T16:29:57.814243Z"
        },
        "trusted": true,
        "id": "sdC-WoFhteYc"
      },
      "execution_count": null,
      "outputs": []
    },
    {
      "cell_type": "code",
      "source": [
        "plot(\n",
        "    data=data.groupby('label')['suffix'],\n",
        "    n_group=20,\n",
        "    title='Top 20 Domains Suffix Grouped By Labels (Logarithmic Scale)'\n",
        ")"
      ],
      "metadata": {
        "execution": {
          "iopub.status.busy": "2021-08-22T16:29:57.815843Z",
          "iopub.execute_input": "2021-08-22T16:29:57.816204Z",
          "iopub.status.idle": "2021-08-22T16:29:58.02698Z",
          "shell.execute_reply.started": "2021-08-22T16:29:57.816177Z",
          "shell.execute_reply": "2021-08-22T16:29:58.025974Z"
        },
        "trusted": true,
        "id": "NnwOfGIPteYc"
      },
      "execution_count": null,
      "outputs": []
    },
    {
      "cell_type": "code",
      "source": [
        "# Separating dependent and independent varible\n",
        "X = data.drop(columns=['label'], inplace=False)\n",
        "y = data.loc[:, 'label']"
      ],
      "metadata": {
        "execution": {
          "iopub.status.busy": "2021-08-22T16:29:58.028229Z",
          "iopub.execute_input": "2021-08-22T16:29:58.028561Z",
          "iopub.status.idle": "2021-08-22T16:29:58.180084Z",
          "shell.execute_reply.started": "2021-08-22T16:29:58.028533Z",
          "shell.execute_reply": "2021-08-22T16:29:58.179089Z"
        },
        "trusted": true,
        "id": "uedjux0RteYc"
      },
      "execution_count": null,
      "outputs": []
    },
    {
      "cell_type": "code",
      "source": [
        "# Encoding labels\n",
        "# Malicious: 1 and Benign: 0\n",
        "y = (y == 'malicious').astype('int')"
      ],
      "metadata": {
        "execution": {
          "iopub.status.busy": "2021-08-22T16:29:58.181226Z",
          "iopub.execute_input": "2021-08-22T16:29:58.181511Z",
          "iopub.status.idle": "2021-08-22T16:29:58.249984Z",
          "shell.execute_reply.started": "2021-08-22T16:29:58.181483Z",
          "shell.execute_reply": "2021-08-22T16:29:58.249134Z"
        },
        "trusted": true,
        "id": "suyfWqDjteYc"
      },
      "execution_count": null,
      "outputs": []
    },
    {
      "cell_type": "code",
      "source": [
        "# Splitting data into training and test data\n",
        "X_train, X_test, y_train, y_test = train_test_split(X, y, test_size=0.4, random_state=1)"
      ],
      "metadata": {
        "execution": {
          "iopub.status.busy": "2021-08-22T16:29:58.251032Z",
          "iopub.execute_input": "2021-08-22T16:29:58.251443Z",
          "iopub.status.idle": "2021-08-22T16:29:58.557661Z",
          "shell.execute_reply.started": "2021-08-22T16:29:58.251393Z",
          "shell.execute_reply": "2021-08-22T16:29:58.556642Z"
        },
        "trusted": true,
        "id": "fOz4g3beteYc"
      },
      "execution_count": null,
      "outputs": []
    },
    {
      "cell_type": "code",
      "source": [
        "X_train"
      ],
      "metadata": {
        "execution": {
          "iopub.status.busy": "2021-08-22T16:29:58.558917Z",
          "iopub.execute_input": "2021-08-22T16:29:58.559215Z",
          "iopub.status.idle": "2021-08-22T16:29:58.582301Z",
          "shell.execute_reply.started": "2021-08-22T16:29:58.559186Z",
          "shell.execute_reply": "2021-08-22T16:29:58.581349Z"
        },
        "trusted": true,
        "id": "zy7D4svRteYd"
      },
      "execution_count": null,
      "outputs": []
    },
    {
      "cell_type": "code",
      "source": [
        "print(X_train.shape)\n",
        "print(y_train.shape)\n",
        "print(X_test.shape)\n",
        "print(y_test.shape)"
      ],
      "metadata": {
        "execution": {
          "iopub.status.busy": "2021-08-22T16:29:58.586787Z",
          "iopub.execute_input": "2021-08-22T16:29:58.587116Z",
          "iopub.status.idle": "2021-08-22T16:29:58.594829Z",
          "shell.execute_reply.started": "2021-08-22T16:29:58.587083Z",
          "shell.execute_reply": "2021-08-22T16:29:58.593896Z"
        },
        "trusted": true,
        "id": "B9iBEMOSteYd"
      },
      "execution_count": null,
      "outputs": []
    },
    {
      "cell_type": "code",
      "source": [
        "# Handling categorical features\n",
        "count_encoder = ce.CountEncoder(handle_unknown=0)\n",
        "X_train.iloc[:, 1:4] = count_encoder.fit_transform(X_train.iloc[:, 1:4])\n",
        "X_test.iloc[:, 1:4] = count_encoder.transform(X_test.iloc[:, 1:4])"
      ],
      "metadata": {
        "execution": {
          "iopub.status.busy": "2021-08-22T16:29:58.598466Z",
          "iopub.execute_input": "2021-08-22T16:29:58.598749Z",
          "iopub.status.idle": "2021-08-22T16:30:00.715978Z",
          "shell.execute_reply.started": "2021-08-22T16:29:58.598723Z",
          "shell.execute_reply": "2021-08-22T16:30:00.714969Z"
        },
        "trusted": true,
        "id": "5kQeWNI5teYd"
      },
      "execution_count": null,
      "outputs": []
    },
    {
      "cell_type": "code",
      "source": [
        "# Scaling of data\n",
        "cols = X_train.columns\n",
        "scaler_x = StandardScaler()\n",
        "X_train = pd.DataFrame(scaler_x.fit_transform(X_train.iloc[:, 1:]), columns=cols[1:])\n",
        "X_test = pd.DataFrame(scaler_x.transform(X_test.iloc[:, 1:]), columns=cols[1:])\n",
        "del cols"
      ],
      "metadata": {
        "execution": {
          "iopub.status.busy": "2021-08-22T16:30:00.717277Z",
          "iopub.execute_input": "2021-08-22T16:30:00.717587Z",
          "iopub.status.idle": "2021-08-22T16:30:00.911906Z",
          "shell.execute_reply.started": "2021-08-22T16:30:00.717558Z",
          "shell.execute_reply": "2021-08-22T16:30:00.910922Z"
        },
        "trusted": true,
        "id": "wY5XPqjDteYd"
      },
      "execution_count": null,
      "outputs": []
    },
    {
      "cell_type": "code",
      "source": [
        "# Correlation between dependent variables\n",
        "fig = go.Figure(go.Heatmap(x = X_train.columns,\n",
        "                 y = X_train.columns,\n",
        "                 z = X_train.corr()))\n",
        "fig.update_layout(title=\"Correlation between dependent variables\")\n",
        "fig.show()"
      ],
      "metadata": {
        "execution": {
          "iopub.status.busy": "2021-08-22T16:30:00.91315Z",
          "iopub.execute_input": "2021-08-22T16:30:00.913454Z",
          "iopub.status.idle": "2021-08-22T16:30:01.144144Z",
          "shell.execute_reply.started": "2021-08-22T16:30:00.913424Z",
          "shell.execute_reply": "2021-08-22T16:30:01.143186Z"
        },
        "trusted": true,
        "id": "U5iVi-uxteYd"
      },
      "execution_count": null,
      "outputs": []
    },
    {
      "cell_type": "code",
      "source": [
        "# Preprocessing OpenPhish Data (unseen data)\n",
        "openphish_data = extract_url(openphish_sites)\n",
        "display(openphish_data.head())\n",
        "openphish_data.iloc[:, 1:4] = count_encoder.transform(openphish_data.iloc[:, 1:4])\n",
        "# display(openphish_data.info())\n",
        "openphish_data = pd.DataFrame(scaler_x.transform(openphish_data.iloc[:, 1:]),\n",
        "                              columns=openphish_data.columns[1:])\n",
        "openphish_data_label = np.ones(shape=(len(openphish_data), 1), dtype='int')"
      ],
      "metadata": {
        "execution": {
          "iopub.status.busy": "2021-08-22T16:30:01.145352Z",
          "iopub.execute_input": "2021-08-22T16:30:01.145642Z",
          "iopub.status.idle": "2021-08-22T16:30:02.386177Z",
          "shell.execute_reply.started": "2021-08-22T16:30:01.145616Z",
          "shell.execute_reply": "2021-08-22T16:30:02.385391Z"
        },
        "trusted": true,
        "id": "DoZzVENvteYd"
      },
      "execution_count": null,
      "outputs": []
    },
    {
      "cell_type": "markdown",
      "source": [
        "# Model Training"
      ],
      "metadata": {
        "id": "iip3k5jZteYe"
      }
    },
    {
      "cell_type": "code",
      "source": [
        "%%time\n",
        "# Logistic Regression\n",
        "from sklearn.linear_model import LogisticRegression\n",
        "lr = LogisticRegression()\n",
        "lr.fit(X_train, y_train)"
      ],
      "metadata": {
        "execution": {
          "iopub.status.busy": "2021-08-22T16:30:02.387266Z",
          "iopub.execute_input": "2021-08-22T16:30:02.387553Z",
          "iopub.status.idle": "2021-08-22T16:30:05.313538Z",
          "shell.execute_reply.started": "2021-08-22T16:30:02.387528Z",
          "shell.execute_reply": "2021-08-22T16:30:05.312511Z"
        },
        "trusted": true,
        "id": "NBmVxXp8teYe"
      },
      "execution_count": null,
      "outputs": []
    },
    {
      "cell_type": "code",
      "source": [
        "%%time\n",
        "# Decision Tree\n",
        "from sklearn.tree import DecisionTreeClassifier\n",
        "dt = DecisionTreeClassifier(random_state=0)\n",
        "dt.fit(X_train, y_train)"
      ],
      "metadata": {
        "execution": {
          "iopub.status.busy": "2021-08-22T16:30:05.315176Z",
          "iopub.execute_input": "2021-08-22T16:30:05.315947Z",
          "iopub.status.idle": "2021-08-22T16:30:06.820232Z",
          "shell.execute_reply.started": "2021-08-22T16:30:05.315899Z",
          "shell.execute_reply": "2021-08-22T16:30:06.819538Z"
        },
        "trusted": true,
        "id": "XH0u60mJteYe"
      },
      "execution_count": null,
      "outputs": []
    },
    {
      "cell_type": "code",
      "source": [
        "%%time\n",
        "# Random Forest\n",
        "from sklearn.ensemble import RandomForestClassifier\n",
        "rf = RandomForestClassifier(n_estimators=250, verbose=1, n_jobs=-1, random_state=14)\n",
        "rf.fit(X_train, y_train)"
      ],
      "metadata": {
        "execution": {
          "iopub.status.busy": "2021-08-22T16:30:06.821632Z",
          "iopub.execute_input": "2021-08-22T16:30:06.822021Z",
          "iopub.status.idle": "2021-08-22T16:30:40.306946Z",
          "shell.execute_reply.started": "2021-08-22T16:30:06.82199Z",
          "shell.execute_reply": "2021-08-22T16:30:40.305927Z"
        },
        "trusted": true,
        "id": "OnugmUdlteYe"
      },
      "execution_count": null,
      "outputs": []
    },
    {
      "cell_type": "code",
      "source": [
        "%%time\n",
        "# Naive Bayes\n",
        "from sklearn.naive_bayes import GaussianNB\n",
        "nb = GaussianNB()\n",
        "nb.fit(X_train, y_train)"
      ],
      "metadata": {
        "execution": {
          "iopub.status.busy": "2021-08-22T16:30:40.308233Z",
          "iopub.execute_input": "2021-08-22T16:30:40.308522Z",
          "iopub.status.idle": "2021-08-22T16:30:40.410795Z",
          "shell.execute_reply.started": "2021-08-22T16:30:40.308495Z",
          "shell.execute_reply": "2021-08-22T16:30:40.41008Z"
        },
        "trusted": true,
        "id": "H3d6uSOTteYe"
      },
      "execution_count": null,
      "outputs": []
    },
    {
      "cell_type": "code",
      "source": [
        "%%time\n",
        "# K Nearest Neighbours\n",
        "from sklearn.neighbors import KNeighborsClassifier\n",
        "knn = KNeighborsClassifier(n_neighbors=5, n_jobs=-1)\n",
        "knn.fit(X_train, y_train)"
      ],
      "metadata": {
        "execution": {
          "iopub.status.busy": "2021-08-22T16:30:40.411953Z",
          "iopub.execute_input": "2021-08-22T16:30:40.41248Z",
          "iopub.status.idle": "2021-08-22T16:34:52.854413Z",
          "shell.execute_reply.started": "2021-08-22T16:30:40.412439Z",
          "shell.execute_reply": "2021-08-22T16:34:52.853453Z"
        },
        "trusted": true,
        "id": "0RiUYCpJteYe"
      },
      "execution_count": null,
      "outputs": []
    },
    {
      "cell_type": "code",
      "source": [
        "%%time\n",
        "# Support Vector Machine\n",
        "from sklearn.svm import SVC\n",
        "svc = SVC()\n",
        "svc.fit(X_train, y_train)"
      ],
      "metadata": {
        "execution": {
          "iopub.status.busy": "2021-08-22T16:34:52.855445Z",
          "iopub.execute_input": "2021-08-22T16:34:52.855684Z",
          "iopub.status.idle": "2021-08-22T16:39:18.000998Z",
          "shell.execute_reply.started": "2021-08-22T16:34:52.85566Z",
          "shell.execute_reply": "2021-08-22T16:39:18.00015Z"
        },
        "trusted": true,
        "id": "w1AC6mBsteYf"
      },
      "execution_count": null,
      "outputs": []
    },
    {
      "cell_type": "code",
      "source": [
        "%%time\n",
        "# Artificial Neural Network\n",
        "ann = Sequential()\n",
        "ann.add(Dense(8, input_dim=X_train.shape[1], activation='relu', kernel_initializer='uniform'))\n",
        "ann.add(Dense(8, activation='relu', kernel_initializer='uniform'))\n",
        "ann.add(Dense(1, kernel_initializer='uniform', activation = 'sigmoid'))\n",
        "ann.compile(optimizer = 'Adam', loss = 'binary_crossentropy',\n",
        "            metrics = [metrics.Precision(), metrics.Recall()])\n",
        "\n",
        "history = ann.fit(X_train, y_train, batch_size=64, epochs=20,\n",
        "                  verbose=1, validation_split=0.2, shuffle=True)"
      ],
      "metadata": {
        "execution": {
          "iopub.status.busy": "2021-08-22T16:39:18.002053Z",
          "iopub.execute_input": "2021-08-22T16:39:18.002308Z",
          "iopub.status.idle": "2021-08-22T16:40:52.524438Z",
          "shell.execute_reply.started": "2021-08-22T16:39:18.002284Z",
          "shell.execute_reply": "2021-08-22T16:40:52.523586Z"
        },
        "trusted": true,
        "id": "enB4eDhWteYf"
      },
      "execution_count": null,
      "outputs": []
    },
    {
      "cell_type": "code",
      "source": [
        "fig = make_subplots(3, 1, subplot_titles=('Loss', 'Precision', 'Recall'))\n",
        "\n",
        "for index, key in enumerate(['loss', 'precision', 'recall']):\n",
        "    # train score\n",
        "    fig.add_trace(go.Scatter(\n",
        "        x=list(range(len(history.history[key]))),\n",
        "        y=history.history[key],\n",
        "        mode='lines+markers',\n",
        "        name=key\n",
        "    ), index + 1, 1)\n",
        "\n",
        "    # val score\n",
        "    fig.add_trace(go.Scatter(\n",
        "        x=list(range(len(history.history[f'val_{key}']))),\n",
        "        y=history.history[f'val_{key}'],\n",
        "        mode='lines+markers',\n",
        "        name=f'val {key}'\n",
        "    ), index + 1, 1)\n",
        "\n",
        "fig.update_layout(title='Artificial Neural Network metrics')\n",
        "fig.show()"
      ],
      "metadata": {
        "execution": {
          "iopub.status.busy": "2021-08-22T16:40:52.525891Z",
          "iopub.execute_input": "2021-08-22T16:40:52.526468Z",
          "iopub.status.idle": "2021-08-22T16:40:52.604869Z",
          "shell.execute_reply.started": "2021-08-22T16:40:52.526422Z",
          "shell.execute_reply": "2021-08-22T16:40:52.60388Z"
        },
        "trusted": true,
        "id": "_IzkCk9xteYf"
      },
      "execution_count": null,
      "outputs": []
    },
    {
      "cell_type": "markdown",
      "source": [
        "## Model Testing"
      ],
      "metadata": {
        "id": "k5lVC2r2teYf"
      }
    },
    {
      "cell_type": "code",
      "source": [
        "%%time\n",
        "# Logistic Regression model testing\n",
        "lr_y_pred = lr.predict(X_test)\n",
        "print(\"--Logistic Regression--\")\n",
        "print(\"Confusion Matrix: \\n\", confusion_matrix(y_test,lr_y_pred))\n",
        "lr_class_report = classification_report(y_test, lr_y_pred, output_dict=True)\n",
        "\n",
        "# Classification report on Openphish Data\n",
        "openphish_lr_class_report = classification_report(openphish_data_label,\n",
        "                                                  lr.predict(openphish_data),\n",
        "                                                  output_dict=True, zero_division=0)"
      ],
      "metadata": {
        "execution": {
          "iopub.status.busy": "2021-08-22T16:40:52.60643Z",
          "iopub.execute_input": "2021-08-22T16:40:52.606813Z",
          "iopub.status.idle": "2021-08-22T16:40:53.308469Z",
          "shell.execute_reply.started": "2021-08-22T16:40:52.606772Z",
          "shell.execute_reply": "2021-08-22T16:40:53.307279Z"
        },
        "trusted": true,
        "id": "MFhg1YecteYf"
      },
      "execution_count": null,
      "outputs": []
    },
    {
      "cell_type": "code",
      "source": [
        "%%time\n",
        "# Decision Tree model testing\n",
        "dt_y_pred = dt.predict(X_test)\n",
        "print(\"--Decision Tree--\")\n",
        "print(\"Confusion Matrix: \\n\", confusion_matrix(y_test, dt_y_pred))\n",
        "dt_class_report = classification_report(y_test, dt_y_pred, output_dict=True)\n",
        "\n",
        "# Classification report on Openphish Data\n",
        "openphish_dt_class_report = classification_report(openphish_data_label,\n",
        "                                                  dt.predict(openphish_data),\n",
        "                                                  output_dict=True, zero_division=0)"
      ],
      "metadata": {
        "execution": {
          "iopub.status.busy": "2021-08-22T16:40:53.313236Z",
          "iopub.execute_input": "2021-08-22T16:40:53.313703Z",
          "iopub.status.idle": "2021-08-22T16:40:53.991536Z",
          "shell.execute_reply.started": "2021-08-22T16:40:53.313658Z",
          "shell.execute_reply": "2021-08-22T16:40:53.990525Z"
        },
        "trusted": true,
        "id": "rOMNJip0teYf"
      },
      "execution_count": null,
      "outputs": []
    },
    {
      "cell_type": "code",
      "source": [
        "%%time\n",
        "# Random Forest model testing\n",
        "rf_y_pred = rf.predict(X_test)\n",
        "print(\"--Random Forest--\")\n",
        "print(\"Confusion Matrix: \\n\", confusion_matrix(y_test, rf_y_pred))\n",
        "rf_class_report = classification_report(y_test, rf_y_pred, output_dict=True)\n",
        "\n",
        "# Classification report on Openphish Data\n",
        "openphish_rf_class_report = classification_report(openphish_data_label,\n",
        "                                                  rf.predict(openphish_data),\n",
        "                                                  output_dict=True, zero_division=0)"
      ],
      "metadata": {
        "execution": {
          "iopub.status.busy": "2021-08-22T16:40:53.992919Z",
          "iopub.execute_input": "2021-08-22T16:40:53.993315Z",
          "iopub.status.idle": "2021-08-22T16:40:57.127237Z",
          "shell.execute_reply.started": "2021-08-22T16:40:53.993283Z",
          "shell.execute_reply": "2021-08-22T16:40:57.126528Z"
        },
        "trusted": true,
        "id": "H2JpUf0eteYg"
      },
      "execution_count": null,
      "outputs": []
    },
    {
      "cell_type": "code",
      "source": [
        "%%time\n",
        "# Naive Bayes model testing\n",
        "nb_y_pred = nb.predict(X_test)\n",
        "print(\"--Naive Bayes--\")\n",
        "print(\"Confusion Matrix: \\n\", confusion_matrix(y_test, nb_y_pred))\n",
        "nb_class_report = classification_report(y_test, nb_y_pred, output_dict=True)\n",
        "\n",
        "# Classification report on Openphish Data\n",
        "openphish_nb_class_report = classification_report(openphish_data_label,\n",
        "                                                  nb.predict(openphish_data),\n",
        "                                                  output_dict=True, zero_division=0)"
      ],
      "metadata": {
        "execution": {
          "iopub.status.busy": "2021-08-22T16:40:57.128147Z",
          "iopub.execute_input": "2021-08-22T16:40:57.128515Z",
          "iopub.status.idle": "2021-08-22T16:40:57.786007Z",
          "shell.execute_reply.started": "2021-08-22T16:40:57.128488Z",
          "shell.execute_reply": "2021-08-22T16:40:57.785063Z"
        },
        "trusted": true,
        "id": "o-Yb_rWateYg"
      },
      "execution_count": null,
      "outputs": []
    },
    {
      "cell_type": "code",
      "source": [
        "%%time\n",
        "# K Nearest Neighbours model testing\n",
        "knn_y_pred = knn.predict(X_test)\n",
        "print(\"--K Nearest Neighbours--\")\n",
        "print(\"Confusion Matrix: \\n\", confusion_matrix(y_test, knn_y_pred))\n",
        "knn_class_report = classification_report(y_test, knn_y_pred, output_dict=True)\n",
        "\n",
        "# Classification report on Openphish Data\n",
        "openphish_knn_class_report = classification_report(openphish_data_label,\n",
        "                                                   knn.predict(openphish_data),\n",
        "                                                   output_dict=True, zero_division=0)"
      ],
      "metadata": {
        "execution": {
          "iopub.status.busy": "2021-08-22T16:40:57.787245Z",
          "iopub.execute_input": "2021-08-22T16:40:57.787596Z",
          "iopub.status.idle": "2021-08-22T16:45:35.406737Z",
          "shell.execute_reply.started": "2021-08-22T16:40:57.787565Z",
          "shell.execute_reply": "2021-08-22T16:45:35.405666Z"
        },
        "trusted": true,
        "id": "ObVuL-SoteYg"
      },
      "execution_count": null,
      "outputs": []
    },
    {
      "cell_type": "code",
      "source": [
        "%%time\n",
        "# Support Vector Machine model testing\n",
        "svc_y_pred = svc.predict(X_test)\n",
        "print(\"--Support Vector Machine--\")\n",
        "print(\"Confusion Matrix: \\n\", confusion_matrix(y_test, svc_y_pred))\n",
        "svc_class_report = classification_report(y_test, svc_y_pred, output_dict=True)\n",
        "\n",
        "# Classification report on Openphish Data\n",
        "openphish_svc_class_report = classification_report(openphish_data_label,\n",
        "                                                   svc.predict(openphish_data),\n",
        "                                                   output_dict=True, zero_division=0)"
      ],
      "metadata": {
        "execution": {
          "iopub.status.busy": "2021-08-22T16:45:35.408228Z",
          "iopub.execute_input": "2021-08-22T16:45:35.408717Z",
          "iopub.status.idle": "2021-08-22T16:46:18.360073Z",
          "shell.execute_reply.started": "2021-08-22T16:45:35.40865Z",
          "shell.execute_reply": "2021-08-22T16:46:18.359119Z"
        },
        "trusted": true,
        "id": "jhLsm7XRteYg"
      },
      "execution_count": null,
      "outputs": []
    },
    {
      "cell_type": "code",
      "source": [
        "%%time\n",
        "# ANN model testing\n",
        "ann_y_pred = ann.predict(X_test)\n",
        "ann_y_pred = (ann_y_pred >= 0.5)\n",
        "print(\"--Artificial Neural Network--\")\n",
        "print(\"Confusion Matrix: \\n\", confusion_matrix(y_test, ann_y_pred))\n",
        "ann_class_report = classification_report(y_test, ann_y_pred, output_dict=True)\n",
        "\n",
        "# Classification report on Openphish Data\n",
        "openphish_ann_class_report = classification_report(openphish_data_label,\n",
        "                                                   ann.predict(openphish_data)>=0.5,\n",
        "                                                   output_dict=True, zero_division=0)"
      ],
      "metadata": {
        "execution": {
          "iopub.status.busy": "2021-08-22T16:46:18.361183Z",
          "iopub.execute_input": "2021-08-22T16:46:18.361454Z",
          "iopub.status.idle": "2021-08-22T16:46:22.60228Z",
          "shell.execute_reply.started": "2021-08-22T16:46:18.361402Z",
          "shell.execute_reply": "2021-08-22T16:46:22.601175Z"
        },
        "trusted": true,
        "id": "KX-AHGebteYg"
      },
      "execution_count": null,
      "outputs": []
    },
    {
      "cell_type": "markdown",
      "source": [
        "## Model Comparision"
      ],
      "metadata": {
        "id": "6eqBog8vteYh"
      }
    },
    {
      "cell_type": "code",
      "source": [
        "# Comparing model performance on testing data\n",
        "models = ['Logistic Regresiion', 'Decision Tree', 'Random Forest', 'Naive Bayes', 'K Nearest Neighbours', 'Support Vector Machine', 'ANN']\n",
        "class_reports = [lr_class_report, dt_class_report, rf_class_report, nb_class_report, knn_class_report, svc_class_report, ann_class_report]\n",
        "model_compare = []\n",
        "for index, report in enumerate(class_reports):\n",
        "    model_compare.append([models[index], report['accuracy']])\n",
        "    model_compare[index].extend(list(report['1'].values())[:-1])\n",
        "# Converting list into dataframe\n",
        "model_compare = pd.DataFrame(model_compare, columns=['Model', 'Accuracy', 'Precision', 'Recall', 'F-Score'])\n",
        "model_compare.set_index('Model', inplace=True)\n",
        "print(\"Classification Model comparison on Kaggle Dataset\")\n",
        "display(model_compare)"
      ],
      "metadata": {
        "execution": {
          "iopub.status.busy": "2021-08-22T16:46:22.605219Z",
          "iopub.execute_input": "2021-08-22T16:46:22.605579Z",
          "iopub.status.idle": "2021-08-22T16:46:22.625309Z",
          "shell.execute_reply.started": "2021-08-22T16:46:22.605545Z",
          "shell.execute_reply": "2021-08-22T16:46:22.624397Z"
        },
        "trusted": true,
        "id": "m1WlKcx-teYi"
      },
      "execution_count": null,
      "outputs": []
    },
    {
      "cell_type": "code",
      "source": [
        "# Comparing model performance on openphish data\n",
        "models = ['Logistic Regresiion', 'Decision Tree', 'Random Forest', 'Naive Bayes', 'K Nearest Neighbours', 'Support Vector Machine', 'ANN']\n",
        "openphish_class_reports = [openphish_lr_class_report, openphish_dt_class_report, openphish_rf_class_report, openphish_nb_class_report,\n",
        "                 openphish_knn_class_report, openphish_svc_class_report, openphish_ann_class_report]\n",
        "openphish_model_compare = []\n",
        "for index, report in enumerate(openphish_class_reports):\n",
        "    openphish_model_compare.append([models[index], report['accuracy']])\n",
        "    openphish_model_compare[index].extend(list(report['1'].values())[:-1])\n",
        "# Converting list into dataframe\n",
        "openphish_model_compare = pd.DataFrame(openphish_model_compare, columns=['Model', 'Accuracy', 'Precision', 'Recall', 'F-Score'])\n",
        "openphish_model_compare.set_index('Model', inplace=True)\n",
        "print(\"Classification Model comparison on OpenPhish Dataset\")\n",
        "display(openphish_model_compare)"
      ],
      "metadata": {
        "execution": {
          "iopub.status.busy": "2021-08-22T16:46:22.626483Z",
          "iopub.execute_input": "2021-08-22T16:46:22.626772Z",
          "iopub.status.idle": "2021-08-22T16:46:22.645227Z",
          "shell.execute_reply.started": "2021-08-22T16:46:22.626743Z",
          "shell.execute_reply": "2021-08-22T16:46:22.644115Z"
        },
        "trusted": true,
        "id": "VW_PByXwteYi"
      },
      "execution_count": null,
      "outputs": []
    },
    {
      "cell_type": "code",
      "source": [
        "fig = go.Figure()\n",
        "for col in model_compare.columns:\n",
        "    fig.add_trace(\n",
        "        go.Bar(\n",
        "            x=model_compare.index,\n",
        "            y=model_compare[col],\n",
        "            name=col,))\n",
        "fig.update_layout(title='Classification Model Comparision on Kaggle Testing Data',\n",
        "                  xaxis={'title': 'Models'}, yaxis={'title': 'Score'})\n",
        "fig.update_yaxes(range=[0.93, 1])\n",
        "fig.show()"
      ],
      "metadata": {
        "execution": {
          "iopub.status.busy": "2021-08-22T16:46:22.646429Z",
          "iopub.execute_input": "2021-08-22T16:46:22.64675Z",
          "iopub.status.idle": "2021-08-22T16:46:22.685629Z",
          "shell.execute_reply.started": "2021-08-22T16:46:22.64672Z",
          "shell.execute_reply": "2021-08-22T16:46:22.684499Z"
        },
        "trusted": true,
        "id": "rLZIi8uCteYi"
      },
      "execution_count": null,
      "outputs": []
    },
    {
      "cell_type": "code",
      "source": [
        "fig = go.Figure()\n",
        "for col in openphish_model_compare.columns:\n",
        "    fig.add_trace(\n",
        "        go.Bar(\n",
        "            x=openphish_model_compare.index,\n",
        "            y=openphish_model_compare[col],\n",
        "            name=col,))\n",
        "fig.update_layout(title='Classification Model Comparision on Openphish Data',\n",
        "                  xaxis={'title': 'Models'}, yaxis={'title': 'Score'})\n",
        "fig.update_yaxes(range=[0.4, 1])\n",
        "fig.show()"
      ],
      "metadata": {
        "execution": {
          "iopub.status.busy": "2021-08-22T16:46:22.686811Z",
          "iopub.execute_input": "2021-08-22T16:46:22.687095Z",
          "iopub.status.idle": "2021-08-22T16:46:22.706955Z",
          "shell.execute_reply.started": "2021-08-22T16:46:22.687068Z",
          "shell.execute_reply": "2021-08-22T16:46:22.705659Z"
        },
        "trusted": true,
        "id": "GD6ACm2VteYi"
      },
      "execution_count": null,
      "outputs": []
    },
    {
      "cell_type": "markdown",
      "source": [
        "<p>Precision denotes how many websites the model classified as malicious are actually malicious, since OpenPhish data contains only malicious websites hence precision of all the models is 1.</p>\n",
        "<p>The most import metric in this scenerio is Recall, because Recall is calculated as out of all the websites that are malicious, how many were predicted as malicious and our main task is to identify malicous websites.</p>\n",
        "<p>As evident from the above visualisation, the decision tree classifier performs best in both kaggle and openphish dataset.</p>"
      ],
      "metadata": {
        "id": "cQL9cTq6teYi"
      }
    },
    {
      "cell_type": "code",
      "source": [],
      "metadata": {
        "id": "39He4OputeYi"
      },
      "execution_count": null,
      "outputs": []
    }
  ]
}